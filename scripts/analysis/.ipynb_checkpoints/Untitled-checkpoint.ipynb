{
 "cells": [
  {
   "cell_type": "markdown",
   "id": "885b9faf-6acf-4d83-9e89-0df21b9f30f6",
   "metadata": {},
   "source": [
    "# Extracting signals of a probabilistic atlas of functional regions"
   ]
  },
  {
   "cell_type": "markdown",
   "id": "1e202a59-aec9-4e4e-ba57-9a39767e58e2",
   "metadata": {},
   "source": [
    "NiftiMapsMasker transforms nifti objects to time series using a probabilistic atlas"
   ]
  },
  {
   "cell_type": "code",
   "execution_count": 5,
   "id": "dd4c36f5-3131-47e2-a5ab-929b6f99eb48",
   "metadata": {},
   "outputs": [],
   "source": [
    "from nilearn.maskers import NiftiMasker"
   ]
  },
  {
   "cell_type": "code",
   "execution_count": 8,
   "id": "3b8cb2d5-7531-4b70-a44f-af0a96daacf2",
   "metadata": {},
   "outputs": [],
   "source": [
    "# Testing on one acquisition\n",
    "acqID = \"DresdenNoFat\"\n",
    "subID = 3\n",
    "sesID = 1\n",
    "homePath  = \"/home/mutrosa/Documents/projects/localizer_fMRI\""
   ]
  },
  {
   "cell_type": "markdown",
   "id": "ac3b88ca-13fc-412e-b026-57dcdb8fd661",
   "metadata": {},
   "source": [
    "## Retrieve the atlas and the data"
   ]
  },
  {
   "cell_type": "code",
   "execution_count": 9,
   "id": "fe390335-1831-464d-bdf1-ec4e10982ecc",
   "metadata": {},
   "outputs": [],
   "source": [
    "# Loading atlas image and data\n",
    "atlas_filename = homePath + f\"/templates/atlas/sub-invivo_MNI_rois.nii.gz\"\n"
   ]
  }
 ],
 "metadata": {
  "kernelspec": {
   "display_name": "Python 3 (ipykernel)",
   "language": "python",
   "name": "python3"
  },
  "language_info": {
   "codemirror_mode": {
    "name": "ipython",
    "version": 3
   },
   "file_extension": ".py",
   "mimetype": "text/x-python",
   "name": "python",
   "nbconvert_exporter": "python",
   "pygments_lexer": "ipython3",
   "version": "3.9.23"
  }
 },
 "nbformat": 4,
 "nbformat_minor": 5
}
