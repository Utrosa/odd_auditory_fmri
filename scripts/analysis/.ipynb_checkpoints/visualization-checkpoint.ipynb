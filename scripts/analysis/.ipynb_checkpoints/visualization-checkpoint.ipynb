{
 "cells": [
  {
   "cell_type": "code",
   "execution_count": null,
   "id": "803fa40c-679a-4a57-b9b2-1c7abdfb8cd8",
   "metadata": {},
   "outputs": [],
   "source": [
    "# result = nib.load(\"/home/mutrosa/Documents/projects/localizer_fMRI/scripts/analysis/results/spmT_0001_trans_out_sub-01_acq-DresdenNoFat.nii.gz\")\n",
    "# atlas  = nib.load(\"/home/mutrosa/Documents/projects/localizer_fMRI/templates/mni_icbm152_t1_tal_nlin_sym_09b_hires.nii\")\n",
    "# mask   = nib.load(\"/home/mutrosa/Documents/projects/localizer_fMRI/data_MRI/derivatives/sub-01/ses-01/func/sub-01_ses-01_task-localizer_acq-DresdenNoFat_desc-brain_mask.nii.gz\")\n",
    "\n",
    "from nilearn import datasets\n",
    "from nilearn import plotting\n",
    "\n",
    "stat_img = datasets.load_sample_motor_activation_image()\n",
    "plotting.plot_glass_brain(\n",
    "    stat_img,\n",
    "    title=\"plot_glass_brain\",\n",
    "    black_bg=True,\n",
    "    display_mode=\"xz\",\n",
    "    threshold=3,\n",
    ")"
   ]
  }
 ],
 "metadata": {
  "kernelspec": {
   "display_name": "Python 3 (ipykernel)",
   "language": "python",
   "name": "python3"
  },
  "language_info": {
   "codemirror_mode": {
    "name": "ipython",
    "version": 3
   },
   "file_extension": ".py",
   "mimetype": "text/x-python",
   "name": "python",
   "nbconvert_exporter": "python",
   "pygments_lexer": "ipython3",
   "version": "3.12.7"
  }
 },
 "nbformat": 4,
 "nbformat_minor": 5
}
